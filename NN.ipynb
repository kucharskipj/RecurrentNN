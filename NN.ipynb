{
 "cells": [
  {
   "cell_type": "code",
   "execution_count": 6,
   "metadata": {},
   "outputs": [],
   "source": [
    "import numpy as np"
   ]
  },
  {
   "cell_type": "code",
   "execution_count": 7,
   "metadata": {},
   "outputs": [],
   "source": [
    "# h - number of hidden units\n",
    "# d - number of input features\n",
    "\n",
    "class RNN:\n",
    "    def __init__(self,h,d):\n",
    "        self.c0 = 0\n",
    "        self.h0 = 0\n",
    "        self.Wf = np.random.rand(h,d)\n",
    "        self.Wi = np.random.rand(h,d)\n",
    "        self.Wo = np.random.rand(h,d)\n",
    "        self.Wc = np.random.rand(h,d)\n",
    "        self.Uf = np.random.rand(h,h)\n",
    "        self.Ui = np.random.rand(h,h)\n",
    "        self.Uo = np.random.rand(h,h)\n",
    "        self.Uc = np.random.rand(h,h)\n",
    "        self.bf = np.random.rand(h)\n",
    "        self.bi = np.random.rand(h)\n",
    "        self.bo = np.random.rand(h)\n",
    "        self.bc = np.random.rand(h)\n",
    "\n",
    "    def forward_propagation(self,xt,ht_1,ct_1,):\n",
    "        ft = self.sigmoid(self.Wf @ xt + self.Uf @ ht_1 + self.bf)\n",
    "        it = self.sigmoid(self.Wi @ xt + self.Ui @ ht_1 + self.bi)\n",
    "        ot = self.sigmoid(self.Wo @ xt + self.Uo @ ht_1 + self.bo)\n",
    "        _ct = np.tanh(self.Wc @ xt + self.Uc @ ht_1 + self.bc)\n",
    "        ct = ft * ct_1 + it * _ct\n",
    "        ht = ot * np.tanh(ct)\n",
    "\n",
    "    def backpropagation(self):\n",
    "        pass\n",
    "\n",
    "    def sigmoid(x):\n",
    "        return 1/(1+np.exp(-x))"
   ]
  },
  {
   "cell_type": "code",
   "execution_count": null,
   "metadata": {},
   "outputs": [],
   "source": [
    "a = RNN(10,10)"
   ]
  }
 ],
 "metadata": {
  "interpreter": {
   "hash": "ad2bdc8ecc057115af97d19610ffacc2b4e99fae6737bb82f5d7fb13d2f2c186"
  },
  "kernelspec": {
   "display_name": "Python 3.8.8 ('base')",
   "language": "python",
   "name": "python3"
  },
  "language_info": {
   "codemirror_mode": {
    "name": "ipython",
    "version": 3
   },
   "file_extension": ".py",
   "mimetype": "text/x-python",
   "name": "python",
   "nbconvert_exporter": "python",
   "pygments_lexer": "ipython3",
   "version": "3.8.8"
  },
  "orig_nbformat": 4
 },
 "nbformat": 4,
 "nbformat_minor": 2
}
